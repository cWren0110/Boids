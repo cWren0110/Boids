{
 "cells": [
  {
   "cell_type": "code",
   "execution_count": 6,
   "metadata": {},
   "outputs": [],
   "source": [
    "import numpy as np\n",
    "import random\n",
    "import math"
   ]
  },
  {
   "cell_type": "code",
   "execution_count": 3,
   "metadata": {},
   "outputs": [],
   "source": [
    "dims = (960, 680)"
   ]
  },
  {
   "cell_type": "code",
   "execution_count": null,
   "metadata": {},
   "outputs": [],
   "source": [
    "class Boid(object):\n",
    "    def __init__(self, dims):\n",
    "        x = random.randint(0, dims[0])\n",
    "        y = random.randint(0, dims[1])\n",
    "        self.postition = np.array([x, y])\n",
    "        \n",
    "        direction = random.random()*2*math.pi\n",
    "        initialSpeed = 1\n",
    "        vx = math.cos(direction)*initialSpeed\n",
    "        vy = math.sin(direction)*initialSpeed\n",
    "        self.velocity = np.array([vx, vy])\n",
    "        \n",
    "        self.maxSpeed = 3\n",
    "        self.maxForce = 0.03\n",
    "        self.visionAngle = math.radians(180)\n",
    "        self.visionDist = 50\n",
    "        \n",
    "        self.closeBoids = []\n",
    "        self.acceleration = np.array([0, 0])\n",
    "        \n",
    "    def run(self):\n",
    "        self.update()\n",
    "    \n",
    "    def update(self):\n",
    "        self.find_boids()\n",
    "        self.separate()\n",
    "        self.align()\n",
    "        self.cohesion()\n",
    "        \n",
    "    def find_boids(self)\n",
    "    "
   ]
  }
 ],
 "metadata": {
  "kernelspec": {
   "display_name": "Python 3",
   "language": "python",
   "name": "python3"
  },
  "language_info": {
   "codemirror_mode": {
    "name": "ipython",
    "version": 3
   },
   "file_extension": ".py",
   "mimetype": "text/x-python",
   "name": "python",
   "nbconvert_exporter": "python",
   "pygments_lexer": "ipython3",
   "version": "3.8.5"
  }
 },
 "nbformat": 4,
 "nbformat_minor": 4
}
