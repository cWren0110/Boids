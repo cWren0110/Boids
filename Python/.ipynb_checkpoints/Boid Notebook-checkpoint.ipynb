{
 "cells": [
  {
   "cell_type": "code",
   "execution_count": 18,
   "metadata": {},
   "outputs": [],
   "source": [
    "import numpy as np\n",
    "import random\n",
    "\n",
    "import math\n",
    "\n",
    "class World():\n",
    "    def __init__(self):\n",
    "        self.dims = (960, 680)\n",
    "        self.boids = np.array([])\n",
    "        \n",
    "    def add_boid(self):\n",
    "        self.boids = np.append(self.boids, Boid(self))\n",
    "    \n",
    "\n",
    "class Boid(object):\n",
    "    def __init__(self, world):\n",
    "        self.world = world\n",
    "        self.boid_num = len(self.world.boids)\n",
    "        dims = self.world.dims\n",
    "        x = random.randint(0, dims[0])\n",
    "        y = random.randint(0, dims[1])\n",
    "        self.position = np.array([x, y])\n",
    "        \n",
    "        direction = random.random()*2*math.pi\n",
    "        initialSpeed = 1\n",
    "        vx = math.cos(direction)*initialSpeed\n",
    "        vy = math.sin(direction)*initialSpeed\n",
    "        self.velocity = np.array([vx, vy])\n",
    "        \n",
    "        self.maxSpeed = 3\n",
    "        self.maxForce = 0.03\n",
    "        self.visionAngle = math.radians(180)  # NOTE if angle > 180 is used the finding algo will need to be adjusted <- TODO\n",
    "        self.visionDist = 50\n",
    "        \n",
    "        self.seenBoids = []\n",
    "        self.acceleration = np.array([0, 0])\n",
    "        \n",
    "    def run(self):\n",
    "        self.update()\n",
    "    \n",
    "    def update(self):\n",
    "        '''\n",
    "        Find visible boids\n",
    "        Separate\n",
    "        Align\n",
    "        Cohesion\n",
    "        Avoid obstacles\n",
    "        Apply Acceleration\n",
    "        '''\n",
    "        self.find_boids()\n",
    "        \n",
    "    def find_boids(self):\n",
    "        '''\n",
    "        This method finds boids that are within the vision distance and vision angle based on velocity direction\n",
    "        '''\n",
    "        dist_vecs = np.array([boid.position - self.position for boid in self.world.boids])\n",
    "        mags = np.sqrt((dist_vecs*dist_vecs).sum(axis=1))\n",
    "        nearbyBoids = self.world.boids[mags < self.visionDist]\n",
    "\n",
    "        relPoints = dist_vecs[mags < self.visionDist]\n",
    "        theta = self.visionAngle/2\n",
    "\n",
    "        clockRotationMatrix = np.array([[math.cos(-theta), -math.sin(-theta)], [math.sin(-theta), math.cos(-theta)]])\n",
    "        counterRotationMatrix = np.array([[math.cos(theta), -math.sin(theta)], [math.sin(theta), math.cos(theta)]])\n",
    "        \n",
    "        sectorStart = np.matmul(clockRotationMatrix, self.velocity)\n",
    "        sectorEnd = np.matmul(counterRotationMatrix, self.velocity)\n",
    "        \n",
    "        visible = [not self.areClockwise(sectorStart, p) and self.areClockwise(sectorEnd, p) for p in relPoints]\n",
    "        self.seenBoids = nearbyBoids[visible]\n",
    "    \n",
    "    def __repr__(self):\n",
    "        return f'Boid {self.boid_num} at {self.position} heading {self.velocity}'\n",
    "    \n",
    "    def __str__(self):\n",
    "        return f'Boid {self.boid_num} at {self.position} heading {self.velocity}'\n",
    "    \n",
    "    def areClockwise(self, v1, v2):\n",
    "        return -v1[0]*v2[1] + v1[1]*v2[0] > 0"
   ]
  },
  {
   "cell_type": "code",
   "execution_count": 19,
   "metadata": {},
   "outputs": [],
   "source": [
    "world = World()"
   ]
  },
  {
   "cell_type": "code",
   "execution_count": 20,
   "metadata": {},
   "outputs": [],
   "source": [
    "for i in range(50):\n",
    "    world.add_boid()"
   ]
  },
  {
   "cell_type": "code",
   "execution_count": 21,
   "metadata": {
    "scrolled": true
   },
   "outputs": [
    {
     "data": {
      "text/plain": [
       "array([Boid 0 at [362 228] heading [ 0.8515968  -0.52419737],\n",
       "       Boid 1 at [781 499] heading [-0.6422514  -0.76649406],\n",
       "       Boid 2 at [712 359] heading [0.8958589  0.44433864],\n",
       "       Boid 3 at [514 222] heading [0.62946597 0.77702805],\n",
       "       Boid 4 at [734 168] heading [ 0.77266852 -0.6348097 ],\n",
       "       Boid 5 at [713 137] heading [-0.34980511  0.93682249],\n",
       "       Boid 6 at [787   1] heading [0.45243812 0.8917958 ],\n",
       "       Boid 7 at [808  85] heading [0.16415082 0.98643525],\n",
       "       Boid 8 at [763 487] heading [-0.92824581 -0.37196736],\n",
       "       Boid 9 at [537 679] heading [ 0.9918162  -0.12767387],\n",
       "       Boid 10 at [202 574] heading [-0.82811294  0.56056128],\n",
       "       Boid 11 at [661 671] heading [-0.47749716 -0.87863329],\n",
       "       Boid 12 at [406  92] heading [0.97355414 0.22845643],\n",
       "       Boid 13 at [510 394] heading [-0.0736982   0.99728059],\n",
       "       Boid 14 at [954 351] heading [0.94015804 0.34073869],\n",
       "       Boid 15 at [760  58] heading [ 0.0741929  -0.99724391],\n",
       "       Boid 16 at [244 277] heading [-0.56523647 -0.82492893],\n",
       "       Boid 17 at [157 273] heading [0.705977   0.70823476],\n",
       "       Boid 18 at [911 584] heading [-0.19285524 -0.98122722],\n",
       "       Boid 19 at [888 341] heading [ 0.59012262 -0.80731363],\n",
       "       Boid 20 at [350 156] heading [-0.03652127 -0.99933288],\n",
       "       Boid 21 at [244 378] heading [-0.09953181 -0.99503438],\n",
       "       Boid 22 at [572 142] heading [0.92088102 0.38984374],\n",
       "       Boid 23 at [856 455] heading [ 0.77950216 -0.62639954],\n",
       "       Boid 24 at [834 159] heading [-0.89601301  0.44402779],\n",
       "       Boid 25 at [395 677] heading [-0.79070153  0.61220184],\n",
       "       Boid 26 at [536 242] heading [ 0.41511169 -0.90977046],\n",
       "       Boid 27 at [807  93] heading [0.9930859 0.1173899],\n",
       "       Boid 28 at [685 523] heading [-0.47575392  0.87957843],\n",
       "       Boid 29 at [911 410] heading [-0.16435944 -0.98640051],\n",
       "       Boid 30 at [231  16] heading [0.36514693 0.9309499 ],\n",
       "       Boid 31 at [ 50 504] heading [-0.99995889  0.00906767],\n",
       "       Boid 32 at [401 484] heading [ 0.04466287 -0.99900212],\n",
       "       Boid 33 at [194  53] heading [0.90225901 0.43119448],\n",
       "       Boid 34 at [581 193] heading [0.64486702 0.76429479],\n",
       "       Boid 35 at [160 308] heading [ 0.99460591 -0.10372601],\n",
       "       Boid 36 at [843 393] heading [-0.65233181 -0.75793352],\n",
       "       Boid 37 at [229 381] heading [-0.75080315  0.66052603],\n",
       "       Boid 38 at [401   7] heading [-0.90563816 -0.42405132],\n",
       "       Boid 39 at [233 677] heading [-0.31146259 -0.95025841],\n",
       "       Boid 40 at [ 14 676] heading [ 0.99383526 -0.11086689],\n",
       "       Boid 41 at [ 62 459] heading [-0.2529882   0.96746936],\n",
       "       Boid 42 at [206 352] heading [-0.98893563  0.14834526],\n",
       "       Boid 43 at [882 149] heading [-0.9282428  -0.37197486],\n",
       "       Boid 44 at [890 119] heading [-0.00890114 -0.99996038],\n",
       "       Boid 45 at [30 68] heading [0.49331554 0.86985043],\n",
       "       Boid 46 at [892 517] heading [0.50757895 0.86160525],\n",
       "       Boid 47 at [684 287] heading [0.37342509 0.92766034],\n",
       "       Boid 48 at [449 282] heading [0.71051638 0.70368066],\n",
       "       Boid 49 at [29 25] heading [0.85724908 0.51490195]], dtype=object)"
      ]
     },
     "execution_count": 21,
     "metadata": {},
     "output_type": "execute_result"
    }
   ],
   "source": [
    "world.boids"
   ]
  },
  {
   "cell_type": "code",
   "execution_count": 22,
   "metadata": {},
   "outputs": [],
   "source": [
    "for boid in world.boids:\n",
    "    boid.update()"
   ]
  },
  {
   "cell_type": "code",
   "execution_count": 25,
   "metadata": {},
   "outputs": [
    {
     "data": {
      "text/plain": [
       "Boid 1 at [781 499] heading [-0.6422514  -0.76649406]"
      ]
     },
     "execution_count": 25,
     "metadata": {},
     "output_type": "execute_result"
    }
   ],
   "source": [
    "world.boids[1]"
   ]
  },
  {
   "cell_type": "code",
   "execution_count": 26,
   "metadata": {
    "scrolled": true
   },
   "outputs": [
    {
     "data": {
      "text/plain": [
       "array([Boid 8 at [763 487] heading [-0.92824581 -0.37196736]],\n",
       "      dtype=object)"
      ]
     },
     "execution_count": 26,
     "metadata": {},
     "output_type": "execute_result"
    }
   ],
   "source": [
    "world.boids[1].seenBoids"
   ]
  }
 ],
 "metadata": {
  "kernelspec": {
   "display_name": "Python 3",
   "language": "python",
   "name": "python3"
  },
  "language_info": {
   "codemirror_mode": {
    "name": "ipython",
    "version": 3
   },
   "file_extension": ".py",
   "mimetype": "text/x-python",
   "name": "python",
   "nbconvert_exporter": "python",
   "pygments_lexer": "ipython3",
   "version": "3.8.5"
  }
 },
 "nbformat": 4,
 "nbformat_minor": 4
}
