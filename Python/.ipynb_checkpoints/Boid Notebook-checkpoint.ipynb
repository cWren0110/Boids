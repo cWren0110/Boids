{
 "cells": [
  {
   "cell_type": "code",
   "execution_count": 40,
   "metadata": {},
   "outputs": [],
   "source": [
    "import numpy as np\n",
    "import random\n",
    "\n",
    "import math\n",
    "\n",
    "class World():\n",
    "    def __init__(self):\n",
    "        self.dims = (250, 250)\n",
    "        self.boids = np.array([])\n",
    "        \n",
    "    def add_boid(self):\n",
    "        self.boids = np.append(self.boids, Boid(self))\n",
    "    \n",
    "\n",
    "class Boid(object):\n",
    "    def __init__(self, world):\n",
    "        self.world = world\n",
    "        self.boid_num = len(self.world.boids)\n",
    "        dims = self.world.dims\n",
    "        x = random.randint(0, dims[0])\n",
    "        y = random.randint(0, dims[1])\n",
    "        self.position = np.array([x, y])\n",
    "        \n",
    "        direction = random.random()*2*math.pi\n",
    "        initialSpeed = 1\n",
    "        vx = math.cos(direction)*initialSpeed\n",
    "        vy = math.sin(direction)*initialSpeed\n",
    "        self.velocity = np.array([vx, vy])\n",
    "        \n",
    "        self.maxSpeed = 3\n",
    "        self.maxForce = 0.03\n",
    "        self.visionAngle = math.radians(180)  # NOTE if angle > 180 is used the finding algo will need to be adjusted <- TODO\n",
    "        self.visionDist = 50\n",
    "        \n",
    "        self.seenBoids = []\n",
    "        self.acceleration = np.array([0, 0])\n",
    "        \n",
    "    def run(self):\n",
    "        '''\n",
    "        Find visible boids\n",
    "        Separate\n",
    "        Align\n",
    "        Cohesion\n",
    "        Avoid obstacles\n",
    "        Apply Acceleration\n",
    "        '''\n",
    "        self.find_boids()\n",
    "        \n",
    "        # get forces\n",
    "        sep = self.separate()\n",
    "        ali = self.align()\n",
    "        coh = self.cohesion()\n",
    "        avo = self.avoid()\n",
    "        \n",
    "        # scale\n",
    "        sep *= 1.0\n",
    "        ali *= 1.0\n",
    "        coh *= 1.0\n",
    "        avo *= 1.0\n",
    "        \n",
    "        self.applyForces([sep, ali, coh, avo])\n",
    "        \n",
    "        self.update()\n",
    "    \n",
    "    def update(self):\n",
    "        '''\n",
    "        method to update boid position\n",
    "        \n",
    "        // Update velocity\n",
    "        velocity.add(acceleration);\n",
    "        // Limit speed\n",
    "        velocity.limit(maxspeed);\n",
    "        position.add(velocity);\n",
    "        // Reset accelertion to 0 each cycle\n",
    "        acceleration.mult(0);\n",
    "        '''\n",
    "        self.velocity += self.acceleration\n",
    "        self.acceleration *= 0\n",
    "        return None\n",
    "    \n",
    "    def applyForces(self, forces):\n",
    "        '''\n",
    "        \n",
    "        '''\n",
    "        return None\n",
    "        \n",
    "    def find_boids(self):\n",
    "        '''\n",
    "        This method finds boids that are within the vision distance and vision angle based on velocity direction\n",
    "        '''\n",
    "        dist_vecs = np.array([boid.position - self.position for boid in self.world.boids])\n",
    "        mags = np.sqrt((dist_vecs*dist_vecs).sum(axis=1))\n",
    "        nearbyBoids = self.world.boids[mags < self.visionDist]\n",
    "\n",
    "        relPoints = dist_vecs[mags < self.visionDist]\n",
    "        theta = self.visionAngle/2\n",
    "\n",
    "        clockRotationMatrix = np.array([[math.cos(-theta), -math.sin(-theta)], [math.sin(-theta), math.cos(-theta)]])\n",
    "        counterRotationMatrix = np.array([[math.cos(theta), -math.sin(theta)], [math.sin(theta), math.cos(theta)]])\n",
    "        \n",
    "        sectorStart = np.matmul(clockRotationMatrix, self.velocity)\n",
    "        sectorEnd = np.matmul(counterRotationMatrix, self.velocity)\n",
    "        \n",
    "        visible = [not self.areClockwise(sectorStart, p) and self.areClockwise(sectorEnd, p) for p in relPoints]\n",
    "        self.seenBoids = nearbyBoids[visible]\n",
    "        \n",
    "    def separate(self):\n",
    "        return None\n",
    "    \n",
    "    def align(self):\n",
    "        return None\n",
    "    \n",
    "    def cohesion(self):\n",
    "        return None\n",
    "    \n",
    "    def avoid(self):\n",
    "        return None\n",
    "    \n",
    "    def __repr__(self):\n",
    "        return f'Boid {self.boid_num} at {self.position} heading {self.velocity}'\n",
    "    \n",
    "    def __str__(self):\n",
    "        return f'Boid {self.boid_num} at {self.position} heading {self.velocity}'\n",
    "    \n",
    "    def areClockwise(self, v1, v2):\n",
    "        return -v1[0]*v2[1] + v1[1]*v2[0] > 0"
   ]
  },
  {
   "cell_type": "code",
   "execution_count": 47,
   "metadata": {},
   "outputs": [],
   "source": [
    "world = World()"
   ]
  },
  {
   "cell_type": "code",
   "execution_count": 48,
   "metadata": {},
   "outputs": [],
   "source": [
    "for i in range(100):\n",
    "    world.add_boid()"
   ]
  },
  {
   "cell_type": "code",
   "execution_count": 49,
   "metadata": {
    "scrolled": true
   },
   "outputs": [
    {
     "data": {
      "text/plain": [
       "array([Boid 0 at [ 79 176] heading [ 0.935796   -0.35254197],\n",
       "       Boid 1 at [ 85 206] heading [-0.07183632  0.99741643],\n",
       "       Boid 2 at [99 30] heading [-0.52216723  0.85284312],\n",
       "       Boid 3 at [ 22 197] heading [ 0.66368548 -0.74801176],\n",
       "       Boid 4 at [183 129] heading [ 0.99308601 -0.11738896],\n",
       "       Boid 5 at [230   0] heading [-0.97541153  0.22039134],\n",
       "       Boid 6 at [ 74 241] heading [-0.93531374 -0.35381945],\n",
       "       Boid 7 at [135  31] heading [0.49098117 0.87117019],\n",
       "       Boid 8 at [117  77] heading [0.96710672 0.25437098],\n",
       "       Boid 9 at [240 103] heading [-0.67500834 -0.7378101 ],\n",
       "       Boid 10 at [ 48 182] heading [ 0.98748465 -0.15771514],\n",
       "       Boid 11 at [247 165] heading [ 0.81222763 -0.58334062],\n",
       "       Boid 12 at [ 92 237] heading [-0.23541444 -0.97189508],\n",
       "       Boid 13 at [89 67] heading [-0.25901274  0.9658739 ],\n",
       "       Boid 14 at [188  28] heading [0.66766513 0.74446174],\n",
       "       Boid 15 at [142 213] heading [ 0.4453449 -0.8953591],\n",
       "       Boid 16 at [32 47] heading [-0.86624836 -0.49961364],\n",
       "       Boid 17 at [122  63] heading [-0.50803119  0.86133867],\n",
       "       Boid 18 at [ 91 227] heading [-0.47983322 -0.87735972],\n",
       "       Boid 19 at [209 124] heading [ 0.16404207 -0.98645334],\n",
       "       Boid 20 at [171   2] heading [0.52526132 0.85094097],\n",
       "       Boid 21 at [228 244] heading [ 0.47391157 -0.88057244],\n",
       "       Boid 22 at [63 92] heading [ 0.18756417 -0.98225235],\n",
       "       Boid 23 at [219  65] heading [-0.99952892 -0.03069095],\n",
       "       Boid 24 at [92 24] heading [-0.94388785 -0.33026616],\n",
       "       Boid 25 at [ 27 183] heading [-0.91812787  0.39628425],\n",
       "       Boid 26 at [ 52 166] heading [-0.71224515  0.7019308 ],\n",
       "       Boid 27 at [250 114] heading [-0.8092705   0.58743618],\n",
       "       Boid 28 at [171  14] heading [-0.9971316  -0.07568737],\n",
       "       Boid 29 at [ 18 144] heading [-0.96779093  0.25175527],\n",
       "       Boid 30 at [221   4] heading [-0.33432533  0.94245773],\n",
       "       Boid 31 at [241 109] heading [0.48282441 0.87571719],\n",
       "       Boid 32 at [ 10 144] heading [-0.90879834 -0.41723564],\n",
       "       Boid 33 at [ 68 173] heading [ 0.42708345 -0.90421221],\n",
       "       Boid 34 at [236 133] heading [ 0.74607004 -0.66586748],\n",
       "       Boid 35 at [136  97] heading [-0.63724593 -0.77066051],\n",
       "       Boid 36 at [ 16 115] heading [-0.40115054  0.91601214],\n",
       "       Boid 37 at [214  91] heading [-0.88054539 -0.47396183],\n",
       "       Boid 38 at [32 93] heading [ 0.60721139 -0.79454032],\n",
       "       Boid 39 at [232   2] heading [-0.12943033  0.99158852],\n",
       "       Boid 40 at [216 110] heading [ 0.58758499 -0.80916245],\n",
       "       Boid 41 at [67 68] heading [0.90137443 0.43304056],\n",
       "       Boid 42 at [127 148] heading [ 0.99990451 -0.01381893],\n",
       "       Boid 43 at [221  94] heading [ 0.28522643 -0.95846016],\n",
       "       Boid 44 at [ 37 107] heading [-0.75526043  0.65542481],\n",
       "       Boid 45 at [218 104] heading [-0.97925756 -0.20261941],\n",
       "       Boid 46 at [114 103] heading [0.85415637 0.52001625],\n",
       "       Boid 47 at [61 21] heading [ 0.12321916 -0.99237948],\n",
       "       Boid 48 at [214 163] heading [-0.83922232  0.54378847],\n",
       "       Boid 49 at [102  76] heading [0.85647897 0.51618192],\n",
       "       Boid 50 at [191  43] heading [0.81739155 0.57608251],\n",
       "       Boid 51 at [99 46] heading [ 0.33688353 -0.94154633],\n",
       "       Boid 52 at [215  41] heading [-0.97561462  0.21949056],\n",
       "       Boid 53 at [94 72] heading [-0.95498446  0.29665582],\n",
       "       Boid 54 at [22 87] heading [-0.10330239  0.99465   ],\n",
       "       Boid 55 at [ 42 157] heading [-0.91751185 -0.39770845],\n",
       "       Boid 56 at [  2 172] heading [-0.56888128 -0.82241965],\n",
       "       Boid 57 at [108  18] heading [-0.82508261 -0.56501212],\n",
       "       Boid 58 at [192 179] heading [-0.7215993  -0.69231094],\n",
       "       Boid 59 at [ 25 101] heading [0.72423887 0.68954917],\n",
       "       Boid 60 at [ 81 210] heading [-0.85261202 -0.5225445 ],\n",
       "       Boid 61 at [ 50 123] heading [ 0.12380154 -0.992307  ],\n",
       "       Boid 62 at [ 62 241] heading [ 0.11194639 -0.99371425],\n",
       "       Boid 63 at [121 182] heading [ 0.80800476 -0.58917596],\n",
       "       Boid 64 at [153  29] heading [-0.9668339   0.25540597],\n",
       "       Boid 65 at [170  18] heading [ 0.88894805 -0.45800804],\n",
       "       Boid 66 at [73 87] heading [0.81150594 0.58434418],\n",
       "       Boid 67 at [193 219] heading [-0.27070999  0.96266095],\n",
       "       Boid 68 at [ 40 139] heading [-0.59374093 -0.80465627],\n",
       "       Boid 69 at [157  27] heading [0.69937789 0.71475211],\n",
       "       Boid 70 at [164  46] heading [ 0.17206508 -0.98508558],\n",
       "       Boid 71 at [ 68 149] heading [0.15878326 0.98731346],\n",
       "       Boid 72 at [240  70] heading [0.22438921 0.97449961],\n",
       "       Boid 73 at [199 128] heading [-0.18792366 -0.98218364],\n",
       "       Boid 74 at [169 221] heading [-0.70634126  0.70787147],\n",
       "       Boid 75 at [ 27 107] heading [-0.50477186  0.86325279],\n",
       "       Boid 76 at [103  14] heading [-0.49891829  0.86664903],\n",
       "       Boid 77 at [149 109] heading [-0.09305211  0.99566124],\n",
       "       Boid 78 at [227  80] heading [ 0.68788066 -0.72582381],\n",
       "       Boid 79 at [ 59 210] heading [0.98825559 0.15280996],\n",
       "       Boid 80 at [  9 245] heading [-0.99954264  0.03024077],\n",
       "       Boid 81 at [242  59] heading [ 0.81964417 -0.57287297],\n",
       "       Boid 82 at [ 59 242] heading [ 0.83261396 -0.55385377],\n",
       "       Boid 83 at [86 51] heading [-0.9856943  -0.16854302],\n",
       "       Boid 84 at [134 185] heading [-0.94816586 -0.31777586],\n",
       "       Boid 85 at [161 249] heading [-0.4022643  -0.91552359],\n",
       "       Boid 86 at [111  77] heading [0.10198248 0.99478619],\n",
       "       Boid 87 at [236  67] heading [-0.74785379 -0.66386347],\n",
       "       Boid 88 at [134 206] heading [-0.85013117 -0.52657098],\n",
       "       Boid 89 at [ 46 110] heading [ 0.97340732 -0.22908117],\n",
       "       Boid 90 at [179 132] heading [0.98569606 0.16853273],\n",
       "       Boid 91 at [ 59 141] heading [-0.9892738  -0.14607312],\n",
       "       Boid 92 at [178  46] heading [0.22478747 0.97440782],\n",
       "       Boid 93 at [180 228] heading [0.06402676 0.99794818],\n",
       "       Boid 94 at [135 236] heading [ 0.96861948 -0.2485484 ],\n",
       "       Boid 95 at [ 27 191] heading [-0.02029204  0.9997941 ],\n",
       "       Boid 96 at [ 35 249] heading [0.72904959 0.68446088],\n",
       "       Boid 97 at [32 76] heading [ 0.61271374 -0.79030493],\n",
       "       Boid 98 at [ 35 120] heading [0.11933925 0.99285354],\n",
       "       Boid 99 at [143 228] heading [0.01154386 0.99993337]], dtype=object)"
      ]
     },
     "execution_count": 49,
     "metadata": {},
     "output_type": "execute_result"
    }
   ],
   "source": [
    "world.boids"
   ]
  },
  {
   "cell_type": "code",
   "execution_count": 50,
   "metadata": {},
   "outputs": [],
   "source": [
    "for boid in world.boids:\n",
    "    boid.update()"
   ]
  },
  {
   "cell_type": "code",
   "execution_count": 51,
   "metadata": {},
   "outputs": [
    {
     "data": {
      "text/plain": [
       "Boid 0 at [ 79 176] heading [ 0.935796   -0.35254197]"
      ]
     },
     "execution_count": 51,
     "metadata": {},
     "output_type": "execute_result"
    }
   ],
   "source": [
    "world.boids[0]"
   ]
  },
  {
   "cell_type": "code",
   "execution_count": 52,
   "metadata": {
    "scrolled": true
   },
   "outputs": [
    {
     "data": {
      "text/plain": [
       "array([Boid 63 at [121 182] heading [ 0.80800476 -0.58917596]],\n",
       "      dtype=object)"
      ]
     },
     "execution_count": 52,
     "metadata": {},
     "output_type": "execute_result"
    }
   ],
   "source": [
    "world.boids[0].seenBoids"
   ]
  },
  {
   "cell_type": "code",
   "execution_count": 56,
   "metadata": {},
   "outputs": [],
   "source": [
    "a=np.array([2,3])"
   ]
  },
  {
   "cell_type": "code",
   "execution_count": 59,
   "metadata": {},
   "outputs": [],
   "source": [
    "a*=0"
   ]
  },
  {
   "cell_type": "code",
   "execution_count": 60,
   "metadata": {},
   "outputs": [
    {
     "data": {
      "text/plain": [
       "array([0, 0])"
      ]
     },
     "execution_count": 60,
     "metadata": {},
     "output_type": "execute_result"
    }
   ],
   "source": [
    "a"
   ]
  },
  {
   "cell_type": "code",
   "execution_count": null,
   "metadata": {},
   "outputs": [],
   "source": []
  }
 ],
 "metadata": {
  "kernelspec": {
   "display_name": "Python 3",
   "language": "python",
   "name": "python3"
  },
  "language_info": {
   "codemirror_mode": {
    "name": "ipython",
    "version": 3
   },
   "file_extension": ".py",
   "mimetype": "text/x-python",
   "name": "python",
   "nbconvert_exporter": "python",
   "pygments_lexer": "ipython3",
   "version": "3.8.5"
  }
 },
 "nbformat": 4,
 "nbformat_minor": 4
}
